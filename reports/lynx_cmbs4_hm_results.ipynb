{
 "cells": [
  {
   "cell_type": "code",
   "execution_count": 1,
   "metadata": {},
   "outputs": [],
   "source": [
    "import numpy as np\n",
    "import matplotlib.pyplot as plt\n",
    "import h5py\n",
    "\n",
    "import healpy as hp \n",
    "import pymaster as nmt\n",
    "from astropy.io import fits\n",
    "\n",
    "%matplotlib inline\n",
    "plt.rcParams['figure.figsize'] = (20.0, 10.0)"
   ]
  },
  {
   "cell_type": "code",
   "execution_count": 2,
   "metadata": {},
   "outputs": [],
   "source": [
    "nside = 512\n",
    "lmax = 3*nside -1\n",
    "freq = ['30','40','85','95','145','155','220','270']"
   ]
  },
  {
   "cell_type": "code",
   "execution_count": 3,
   "metadata": {},
   "outputs": [],
   "source": [
    "mask_file = '/global/homes/k/kp22/lynx/data/interim/n0512.h5'\n",
    "with h5py.File(mask_file, 'r') as f:\n",
    "    mask = f['ns0512/apodized/basic'][...]\n",
    "    mask_binary = f['ns0512/binary'][...]"
   ]
  },
  {
   "cell_type": "code",
   "execution_count": 4,
   "metadata": {},
   "outputs": [
    {
     "data": {
      "image/png": "[encoded data removed]",
      "text/plain": [
       "<Figure size 1440x720 with 2 Axes>"
      ]
     },
     "metadata": {
      "needs_background": "light"
     },
     "output_type": "display_data"
    }
   ],
   "source": [
    "hp.mollview(mask,sub=121,title=\"Apodised mask\")"
   ]
  },
  {
   "cell_type": "markdown",
   "metadata": {},
   "source": [
    "# Reading in the input and recovered maps and respective power spectra"
   ]
  },
  {
   "cell_type": "code",
   "execution_count": 5,
   "metadata": {},
   "outputs": [],
   "source": [
    "#The mean_maps.h5 contains a record of shape (3, 10, 8, 2, 3145728).\n",
    "#Components (CMB,Dust,Sync) = 3\n",
    "#nmc=5\n",
    "#n_freq = 8"
   ]
  },
  {
   "cell_type": "code",
   "execution_count": 6,
   "metadata": {},
   "outputs": [],
   "source": [
    "data_file = '/global/homes/k/kp22/lynx/data/interim/mean_maps.h5'"
   ]
  },
  {
   "cell_type": "code",
   "execution_count": 7,
   "metadata": {},
   "outputs": [
    {
     "ename": "OSError",
     "evalue": "Unable to open file (unable to open file: name = '/global/homes/k/kp22/lynx/data/interim/mean_maps.h5', errno = 2, error message = 'No such file or directory', flags = 0, o_flags = 0)",
     "output_type": "error",
     "traceback": [
      "\u001b[0;31m---------------------------------------------------------------------------\u001b[0m",
      "\u001b[0;31mOSError\u001b[0m                                   Traceback (most recent call last)",
      "\u001b[0;32m<ipython-input-7-b18a95034417>\u001b[0m in \u001b[0;36m<module>\u001b[0;34m\u001b[0m\n\u001b[0;32m----> 1\u001b[0;31m \u001b[0;32mwith\u001b[0m \u001b[0mh5py\u001b[0m\u001b[0;34m.\u001b[0m\u001b[0mFile\u001b[0m\u001b[0;34m(\u001b[0m\u001b[0mdata_file\u001b[0m\u001b[0;34m,\u001b[0m \u001b[0;34m'r'\u001b[0m\u001b[0;34m)\u001b[0m \u001b[0;32mas\u001b[0m \u001b[0mf\u001b[0m\u001b[0;34m:\u001b[0m\u001b[0;34m\u001b[0m\u001b[0;34m\u001b[0m\u001b[0m\n\u001b[0m\u001b[1;32m      2\u001b[0m     \u001b[0mdata\u001b[0m \u001b[0;34m=\u001b[0m \u001b[0mf\u001b[0m\u001b[0;34m[\u001b[0m\u001b[0;34m'maps/monte_carlo/data'\u001b[0m\u001b[0;34m]\u001b[0m\u001b[0;34m[\u001b[0m\u001b[0;34m...\u001b[0m\u001b[0;34m]\u001b[0m\u001b[0;34m\u001b[0m\u001b[0;34m\u001b[0m\u001b[0m\n",
      "\u001b[0;32m~/.conda/envs/lynx/lib/python3.8/site-packages/h5py/_hl/files.py\u001b[0m in \u001b[0;36m__init__\u001b[0;34m(self, name, mode, driver, libver, userblock_size, swmr, rdcc_nslots, rdcc_nbytes, rdcc_w0, track_order, **kwds)\u001b[0m\n\u001b[1;32m    404\u001b[0m             \u001b[0;32mwith\u001b[0m \u001b[0mphil\u001b[0m\u001b[0;34m:\u001b[0m\u001b[0;34m\u001b[0m\u001b[0;34m\u001b[0m\u001b[0m\n\u001b[1;32m    405\u001b[0m                 \u001b[0mfapl\u001b[0m \u001b[0;34m=\u001b[0m \u001b[0mmake_fapl\u001b[0m\u001b[0;34m(\u001b[0m\u001b[0mdriver\u001b[0m\u001b[0;34m,\u001b[0m \u001b[0mlibver\u001b[0m\u001b[0;34m,\u001b[0m \u001b[0mrdcc_nslots\u001b[0m\u001b[0;34m,\u001b[0m \u001b[0mrdcc_nbytes\u001b[0m\u001b[0;34m,\u001b[0m \u001b[0mrdcc_w0\u001b[0m\u001b[0;34m,\u001b[0m \u001b[0;34m**\u001b[0m\u001b[0mkwds\u001b[0m\u001b[0;34m)\u001b[0m\u001b[0;34m\u001b[0m\u001b[0;34m\u001b[0m\u001b[0m\n\u001b[0;32m--> 406\u001b[0;31m                 fid = make_fid(name, mode, userblock_size,\n\u001b[0m\u001b[1;32m    407\u001b[0m                                \u001b[0mfapl\u001b[0m\u001b[0;34m,\u001b[0m \u001b[0mfcpl\u001b[0m\u001b[0;34m=\u001b[0m\u001b[0mmake_fcpl\u001b[0m\u001b[0;34m(\u001b[0m\u001b[0mtrack_order\u001b[0m\u001b[0;34m=\u001b[0m\u001b[0mtrack_order\u001b[0m\u001b[0;34m)\u001b[0m\u001b[0;34m,\u001b[0m\u001b[0;34m\u001b[0m\u001b[0;34m\u001b[0m\u001b[0m\n\u001b[1;32m    408\u001b[0m                                swmr=swmr)\n",
      "\u001b[0;32m~/.conda/envs/lynx/lib/python3.8/site-packages/h5py/_hl/files.py\u001b[0m in \u001b[0;36mmake_fid\u001b[0;34m(name, mode, userblock_size, fapl, fcpl, swmr)\u001b[0m\n\u001b[1;32m    171\u001b[0m         \u001b[0;32mif\u001b[0m \u001b[0mswmr\u001b[0m \u001b[0;32mand\u001b[0m \u001b[0mswmr_support\u001b[0m\u001b[0;34m:\u001b[0m\u001b[0;34m\u001b[0m\u001b[0;34m\u001b[0m\u001b[0m\n\u001b[1;32m    172\u001b[0m             \u001b[0mflags\u001b[0m \u001b[0;34m|=\u001b[0m \u001b[0mh5f\u001b[0m\u001b[0;34m.\u001b[0m\u001b[0mACC_SWMR_READ\u001b[0m\u001b[0;34m\u001b[0m\u001b[0;34m\u001b[0m\u001b[0m\n\u001b[0;32m--> 173\u001b[0;31m         \u001b[0mfid\u001b[0m \u001b[0;34m=\u001b[0m \u001b[0mh5f\u001b[0m\u001b[0;34m.\u001b[0m\u001b[0mopen\u001b[0m\u001b[0;34m(\u001b[0m\u001b[0mname\u001b[0m\u001b[0;34m,\u001b[0m \u001b[0mflags\u001b[0m\u001b[0;34m,\u001b[0m \u001b[0mfapl\u001b[0m\u001b[0;34m=\u001b[0m\u001b[0mfapl\u001b[0m\u001b[0;34m)\u001b[0m\u001b[0;34m\u001b[0m\u001b[0;34m\u001b[0m\u001b[0m\n\u001b[0m\u001b[1;32m    174\u001b[0m     \u001b[0;32melif\u001b[0m \u001b[0mmode\u001b[0m \u001b[0;34m==\u001b[0m \u001b[0;34m'r+'\u001b[0m\u001b[0;34m:\u001b[0m\u001b[0;34m\u001b[0m\u001b[0;34m\u001b[0m\u001b[0m\n\u001b[1;32m    175\u001b[0m         \u001b[0mfid\u001b[0m \u001b[0;34m=\u001b[0m \u001b[0mh5f\u001b[0m\u001b[0;34m.\u001b[0m\u001b[0mopen\u001b[0m\u001b[0;34m(\u001b[0m\u001b[0mname\u001b[0m\u001b[0;34m,\u001b[0m \u001b[0mh5f\u001b[0m\u001b[0;34m.\u001b[0m\u001b[0mACC_RDWR\u001b[0m\u001b[0;34m,\u001b[0m \u001b[0mfapl\u001b[0m\u001b[0;34m=\u001b[0m\u001b[0mfapl\u001b[0m\u001b[0;34m)\u001b[0m\u001b[0;34m\u001b[0m\u001b[0;34m\u001b[0m\u001b[0m\n",
      "\u001b[0;32mh5py/_objects.pyx\u001b[0m in \u001b[0;36mh5py._objects.with_phil.wrapper\u001b[0;34m()\u001b[0m\n",
      "\u001b[0;32mh5py/_objects.pyx\u001b[0m in \u001b[0;36mh5py._objects.with_phil.wrapper\u001b[0;34m()\u001b[0m\n",
      "\u001b[0;32mh5py/h5f.pyx\u001b[0m in \u001b[0;36mh5py.h5f.open\u001b[0;34m()\u001b[0m\n",
      "\u001b[0;31mOSError\u001b[0m: Unable to open file (unable to open file: name = '/global/homes/k/kp22/lynx/data/interim/mean_maps.h5', errno = 2, error message = 'No such file or directory', flags = 0, o_flags = 0)"
     ]
    }
   ],
   "source": [
    "with h5py.File(data_file, 'r') as f:\n",
    "    data = f['maps/monte_carlo/data'][...]"
   ]
  },
  {
   "cell_type": "code",
   "execution_count": null,
   "metadata": {},
   "outputs": [],
   "source": [
    "data.shape"
   ]
  },
  {
   "cell_type": "code",
   "execution_count": null,
   "metadata": {},
   "outputs": [],
   "source": [
    "def factor_CMB_to_RJ(nu):\n",
    "    x = 0.0176086761 * nu\n",
    "    ex = np.exp(x)\n",
    "    factor = ex * (x / (ex - 1)) ** 2\n",
    "    return factor"
   ]
  },
  {
   "cell_type": "code",
   "execution_count": null,
   "metadata": {},
   "outputs": [],
   "source": [
    "cmb_map_in = np.nan_to_num(data[0,:,3])*mask_binary\n",
    "dust_map_in = np.nan_to_num(data[1,:,7])*mask_binary*factor_CMB_to_RJ(270)\n",
    "sync_map_in = np.nan_to_num(data[2,:,0])*mask_binary*factor_CMB_to_RJ(30)"
   ]
  },
  {
   "cell_type": "code",
   "execution_count": null,
   "metadata": {},
   "outputs": [],
   "source": [
    "# setup binning\n",
    "step = 35\n",
    "ell_ini = np.arange(30,500,step)\n",
    "ell_end = np.arange(ell_ini[1]-1,ell_ini[-1]+step+1,step)\n",
    "b = nmt.NmtBin.from_edges(ell_ini,ell_end, is_Dell=True)\n",
    "eff_ells = b.get_effective_ells()"
   ]
  },
  {
   "cell_type": "code",
   "execution_count": null,
   "metadata": {},
   "outputs": [],
   "source": [
    "# read workspace\n",
    "wsp00 = nmt.NmtWorkspace()\n",
    "wsp00.read_from(\"/global/homes/k/kp22/lynx/data/interim/basic_wsp.fits\")"
   ]
  },
  {
   "cell_type": "code",
   "execution_count": null,
   "metadata": {},
   "outputs": [],
   "source": [
    "def get_spectrum(QU_maps, mask, b, wsp00):\n",
    "    #Takes Q and U maps and returns BB power spectrum\n",
    "    f_2 = nmt.NmtField(mask, [QU_maps[0],QU_maps[1]])\n",
    "    return nmt.compute_full_master(f_2, f_2, b, workspace=wsp00)[3]"
   ]
  },
  {
   "cell_type": "code",
   "execution_count": null,
   "metadata": {},
   "outputs": [],
   "source": [
    "cmb_ps_in = np.zeros(shape=(len(cmb_map_in),len(eff_ells)))\n",
    "\n",
    "for i in range(5):\n",
    "    cmb_ps_in[i] = get_spectrum([cmb_map_in[i,0],cmb_map_in[i,1]],mask,b,wsp00)\n",
    "    "
   ]
  },
  {
   "cell_type": "code",
   "execution_count": null,
   "metadata": {},
   "outputs": [],
   "source": [
    "dust_ps_in = np.zeros(shape=(len(cmb_map_in),len(eff_ells)))\n",
    "\n",
    "for i in range(5):\n",
    "    dust_ps_in[i] = get_spectrum([dust_map_in[i,0],dust_map_in[i,1]],mask,b,wsp00)\n",
    " "
   ]
  },
  {
   "cell_type": "code",
   "execution_count": null,
   "metadata": {},
   "outputs": [],
   "source": [
    "sync_ps_in = np.zeros(shape=(len(cmb_map_in),len(eff_ells)))\n",
    "\n",
    "for i in range(5):\n",
    "    sync_ps_in[i] = get_spectrum([sync_map_in[i,0],sync_map_in[i,1]],mask,b,wsp00)\n",
    " "
   ]
  },
  {
   "cell_type": "code",
   "execution_count": null,
   "metadata": {},
   "outputs": [],
   "source": [
    "cmb_ps_in_mean = np.sum(cmb_ps_in,axis=0)/ len(cmb_ps_in)\n",
    "dust_ps_in_mean = np.sum(dust_ps_in,axis=0)/ len(dust_ps_in)\n",
    "sync_ps_in_mean = np.sum(sync_ps_in,axis=0)/ len(sync_ps_in)"
   ]
  },
  {
   "cell_type": "markdown",
   "metadata": {},
   "source": [
    "# Recovered maps and power spectra"
   ]
  },
  {
   "cell_type": "code",
   "execution_count": null,
   "metadata": {},
   "outputs": [],
   "source": [
    "outpath = '/global/homes/k/kp22/lynx/data/interim/cmbs4_hm.h5'\n",
    "f = h5py.File(outpath, 'r')\n",
    "comp_sep = f['comp_sep_validation/one']"
   ]
  },
  {
   "cell_type": "code",
   "execution_count": null,
   "metadata": {},
   "outputs": [],
   "source": [
    "cmb_map_rec = np.array(comp_sep['cmb_T_bar'])[::2]\n",
    "dust_map_rec = np.array(comp_sep['dustmbb_T_bar'])[::2]\n",
    "sync_map_rec = np.array(comp_sep['syncpl_T_bar'])[::2]"
   ]
  },
  {
   "cell_type": "code",
   "execution_count": null,
   "metadata": {},
   "outputs": [],
   "source": [
    "power_spectra = comp_sep['spectra/linear_lmin30lmax383']"
   ]
  },
  {
   "cell_type": "code",
   "execution_count": null,
   "metadata": {},
   "outputs": [],
   "source": [
    "cmb_ps_rec = np.array(power_spectra['cmb'])[:,3,:]\n",
    "dust_ps_rec = np.array(power_spectra['dustmbb'])[:,3,:]\n",
    "sync_ps_rec = np.array(power_spectra['syncpl'])[:,3,:]"
   ]
  },
  {
   "cell_type": "code",
   "execution_count": null,
   "metadata": {},
   "outputs": [],
   "source": [
    "cmb_ps_rec_mean = np.sum(cmb_ps_rec,axis=0)/ len(cmb_ps_rec)\n",
    "dust_ps_rec_mean = np.sum(dust_ps_rec,axis=0)/ len(dust_ps_rec)\n",
    "sync_ps_rec_mean = np.sum(sync_ps_rec,axis=0)/ len(sync_ps_rec)"
   ]
  },
  {
   "cell_type": "markdown",
   "metadata": {},
   "source": [
    "# Plotting maps"
   ]
  },
  {
   "cell_type": "code",
   "execution_count": null,
   "metadata": {},
   "outputs": [],
   "source": [
    "def plot_map(map,sub,title,min,max):\n",
    "    lon_center, lat_center, psi_center = 0, -45, 360/4\n",
    "    xsize = 3*512\n",
    "    reso  = 2.1\n",
    "    az_dθφ = hp.azeqview(map,\n",
    "    rot=(lon_center,lat_center, 360/4),\n",
    "    lamb=True, # lamb = false makes Azimuthal equidistant projection\n",
    "    reso=reso, title=title,\n",
    "    min=min, max=max,\n",
    "    xsize=xsize, cmap='jet',\n",
    "    sub=sub,\n",
    "    return_projected_map=True\n",
    "    )"
   ]
  },
  {
   "cell_type": "code",
   "execution_count": null,
   "metadata": {},
   "outputs": [],
   "source": [
    "plot_map(cmb_map_in[0,0],sub=131,title=\"Input CMB Q-Pol\",min=-5e-7,max=5e-7)\n",
    "plot_map(cmb_map_rec[0,0],sub=132,title=\"Recovered CMB Q-Pol\",min=-5e-7,max=5e-7)\n",
    "plot_map(cmb_map_in[0,0]-cmb_map_rec[0,0],sub=133,title=\"Residual plot\",min=-5e-7,max=5e-7)"
   ]
  },
  {
   "cell_type": "code",
   "execution_count": null,
   "metadata": {},
   "outputs": [],
   "source": [
    "plot_map(cmb_map_in[0,1],sub=131,title=\"Input CMB U-Pol\",min=-5e-7,max=5e-7)\n",
    "plot_map(cmb_map_rec[0,1],sub=132,title=\"Recovered CMB U-Pol\",min=-5e-7,max=5e-7)\n",
    "plot_map(cmb_map_in[0,1]-cmb_map_rec[0,1],sub=133,title=\"Residual plot\",min=-5e-7,max=5e-7)"
   ]
  },
  {
   "cell_type": "code",
   "execution_count": null,
   "metadata": {},
   "outputs": [],
   "source": [
    "plot_map(dust_map_in[0,1],sub=131,title=\"Input Dust U-Pol\",min=-5e-7,max=5e-7)\n",
    "plot_map(dust_map_rec[0,1],sub=132,title=\"Recovered Dust U-Pol\",min=-5e-7,max=5e-7)\n",
    "plot_map(dust_map_in[0,1]-dust_map_rec[0,1],sub=133,title=\"Residual plot\",min=-5e-7,max=5e-7)"
   ]
  },
  {
   "cell_type": "code",
   "execution_count": null,
   "metadata": {},
   "outputs": [],
   "source": [
    "plot_map(sync_map_in[1,1],sub=131,title=\"Input Sync U-Pol\",min=-5e-6,max=5e-6)\n",
    "plot_map(sync_map_rec[1,1],sub=132,title=\"Recovered Sync U-Pol\",min=-5e-6,max=5e-6)\n",
    "plot_map(sync_map_in[1,1]-sync_map_rec[1,1],sub=133,title=\"Residual plot\",min=-5e-6,max=5e-6)"
   ]
  },
  {
   "cell_type": "markdown",
   "metadata": {},
   "source": [
    "# Plotting the Estimated Power Spectrum"
   ]
  },
  {
   "cell_type": "code",
   "execution_count": null,
   "metadata": {},
   "outputs": [],
   "source": [
    "plt.figure()\n",
    "plt.plot(eff_ells,cmb_ps_rec_mean,label=r\"$Rec. C_\\ell^{BB}$ for CMB\")\n",
    "plt.plot(eff_ells,cmb_ps_in_mean,label=r\"Input $C_\\ell^{BB}$ for CMB\")\n",
    "for i in range(5):\n",
    "    plt.plot(eff_ells,cmb_ps_rec[i],alpha=0.2)\n",
    "    plt.plot(eff_ells,cmb_ps_in[i],alpha=0.2)\n",
    "plt.xlabel('$\\\\ell$', fontsize=16)\n",
    "plt.ylabel(r'$D_\\ell$', fontsize=16)\n",
    "plt.loglog()\n",
    "plt.xlim(40,250)\n",
    "plt.legend(loc='upper left', fontsize=16, labelspacing=0.1)"
   ]
  },
  {
   "cell_type": "code",
   "execution_count": null,
   "metadata": {},
   "outputs": [],
   "source": [
    "plt.figure()\n",
    "plt.plot(eff_ells,dust_ps_rec_mean,label=r\"$Rec. C_\\ell^{BB}$ for Dust at 270GHz\")\n",
    "plt.plot(eff_ells,dust_ps_in_mean,label=r\"Input $C_\\ell^{BB}$ for Dust at 270GHz\")\n",
    "for i in range(5):\n",
    "    plt.plot(eff_ells,dust_ps_rec[i],alpha=0.2)\n",
    "    plt.plot(eff_ells,dust_ps_in[i],alpha=0.2)\n",
    "plt.xlabel('$\\\\ell$', fontsize=16)\n",
    "plt.ylabel(r'$D_\\ell$', fontsize=16)\n",
    "plt.loglog()\n",
    "plt.xlim(40,250)\n",
    "plt.ylim(1e-15,1e-13)\n",
    "plt.legend(loc='upper left', fontsize=16, labelspacing=0.1)"
   ]
  },
  {
   "cell_type": "code",
   "execution_count": null,
   "metadata": {},
   "outputs": [],
   "source": [
    "plt.figure()\n",
    "plt.plot(eff_ells,sync_ps_rec_mean,label=r\"$Rec. C_\\ell^{BB}$ for Sync at 30GHz\")\n",
    "plt.plot(eff_ells,sync_ps_in_mean,label=r\"Input $C_\\ell^{BB}$ for Sync at 30GHz\")\n",
    "for i in range(5):\n",
    "    plt.plot(eff_ells,sync_ps_rec[i],alpha=0.2)\n",
    "    plt.plot(eff_ells,sync_ps_in[i],alpha=0.2)\n",
    "plt.xlabel('$\\\\ell$', fontsize=16)\n",
    "plt.ylabel(r'$D_\\ell$', fontsize=16)\n",
    "plt.loglog()\n",
    "plt.xlim(40,250)\n",
    "plt.ylim(1e-11,1e-13)\n",
    "plt.legend(loc='upper left', fontsize=16, labelspacing=0.1)"
   ]
  },
  {
   "cell_type": "code",
   "execution_count": null,
   "metadata": {},
   "outputs": [],
   "source": [
    "plt.figure()\n",
    "plt.plot(eff_ells,cmb_ps_in_mean,'b',label=r\"Input $D_\\ell^{BB}$ for CMB\")\n",
    "plt.plot(eff_ells,dust_ps_in_mean,'g',label=r\"Input $D_\\ell^{BB}$ for Dust\")\n",
    "plt.plot(eff_ells,sync_ps_in_mean,'y',label=r\"Input $D_\\ell^{BB}$ for Sync\")\n",
    "plt.plot(eff_ells,cmb_ps_rec_mean,'b--',label=r\"$D_\\ell^{BB}$ for CMB\")\n",
    "plt.plot(eff_ells,dust_ps_rec_mean,'g--',label=r\"$D_\\ell^{BB}$ for Dust\")\n",
    "plt.plot(eff_ells,sync_ps_rec_mean,'y--',label=r\"$D_\\ell^{BB}$ for Sync\")\n",
    "\n",
    "plt.xlabel('$\\\\ell$', fontsize=16)\n",
    "plt.ylabel(r'$\\ell(\\ell+1)C_\\ell/2\\pi[\\mu K^2]$', fontsize=16)\n",
    "\n",
    "plt.loglog()\n",
    "plt.xlim(40,250)\n",
    "plt.ylim(1e-11,1e-17)\n",
    "plt.legend(loc='upper left', fontsize=16, labelspacing=0.1)"
   ]
  },
  {
   "cell_type": "code",
   "execution_count": null,
   "metadata": {},
   "outputs": [],
   "source": []
  }
 ],
 "metadata": {
  "kernelspec": {
   "display_name": "Python [conda env:.conda-lynx]",
   "language": "python",
   "name": "conda-env-.conda-lynx-py"
  },
  "language_info": {
   "codemirror_mode": {
    "name": "ipython",
    "version": 3
   },
   "file_extension": ".py",
   "mimetype": "text/x-python",
   "name": "python",
   "nbconvert_exporter": "python",
   "pygments_lexer": "ipython3",
   "version": "3.8.3"
  }
 },
 "nbformat": 4,
 "nbformat_minor": 4
}
